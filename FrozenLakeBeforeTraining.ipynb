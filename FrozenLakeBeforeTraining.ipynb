{
 "cells": [
  {
   "cell_type": "code",
   "execution_count": 2,
   "metadata": {},
   "outputs": [
    {
     "name": "stdout",
     "output_type": "stream",
     "text": [
      "total_reward: 0.0\n"
     ]
    }
   ],
   "source": [
    "import gym\n",
    "import numpy as np\n",
    "import time\n",
    "from IPython.display import clear_output\n",
    "#before training\n",
    "env=gym.make(\"FrozenLake-v0\")\n",
    "max_steps_per_episode=200\n",
    "total_reward=0\n",
    "for episode in range(8):\n",
    "    print(\"******\",episode+1,\"*******\")\n",
    "    time.sleep(1)\n",
    "    state=env.reset()\n",
    "    done=False\n",
    "    reward_per_episode=0\n",
    "    for steps in range(max_steps_per_episode):\n",
    "        clear_output(wait=True)\n",
    "        env.render()\n",
    "        time.sleep(0.3)\n",
    "        action=env.action_space.sample()\n",
    "        new_state,reward,done,info=env.step(action)\n",
    "        reward_per_episode+=reward\n",
    "        if done:\n",
    "            print('Hit a hole')\n",
    "            time.sleep(1)\n",
    "            break\n",
    "    \n",
    "    print('Reward:',reward_per_episode)\n",
    "    time.sleep(3)\n",
    "    clear_output(wait=True)\n",
    "total_reward+=reward_per_episode\n",
    "print('total_reward:',total_reward)"
   ]
  },
  {
   "cell_type": "code",
   "execution_count": null,
   "metadata": {},
   "outputs": [],
   "source": []
  },
  {
   "cell_type": "code",
   "execution_count": null,
   "metadata": {},
   "outputs": [],
   "source": []
  },
  {
   "cell_type": "code",
   "execution_count": null,
   "metadata": {},
   "outputs": [],
   "source": []
  }
 ],
 "metadata": {
  "kernelspec": {
   "display_name": "Python 3",
   "language": "python",
   "name": "python3"
  },
  "language_info": {
   "codemirror_mode": {
    "name": "ipython",
    "version": 3
   },
   "file_extension": ".py",
   "mimetype": "text/x-python",
   "name": "python",
   "nbconvert_exporter": "python",
   "pygments_lexer": "ipython3",
   "version": "3.7.0b4"
  }
 },
 "nbformat": 4,
 "nbformat_minor": 2
}
